{
  "nbformat": 4,
  "nbformat_minor": 0,
  "metadata": {
    "colab": {
      "name": "digit_recognizer_multi_nn.ipynb",
      "provenance": [],
      "collapsed_sections": [],
      "authorship_tag": "ABX9TyMnYWnxrR7F6Q/tb9QDyr1F"
    },
    "kernelspec": {
      "name": "python3",
      "display_name": "Python 3"
    },
    "language_info": {
      "name": "python"
    }
  },
  "cells": [
    {
      "cell_type": "code",
      "execution_count": null,
      "metadata": {
        "id": "owPalb4hZjCv"
      },
      "outputs": [],
      "source": [
        "import pandas as pd\n",
        "import numpy as np\n",
        "import matplotlib.pyplot as plt"
      ]
    },
    {
      "cell_type": "code",
      "source": [
        "data = pd.read_csv(\"train.csv\")\n",
        "data = np.array(data)\n",
        "m, n = data.shape\n",
        "np.random.shuffle(data) # shuffle before splitting into dev and training sets\n",
        "\n",
        "data_train = data.T\n",
        "Y_train = data_train[0]\n",
        "X_train = data_train[1:n]\n",
        "X_train = X_train / 255.\n",
        "_,m_train = X_train.shape"
      ],
      "metadata": {
        "id": "0cnPwRTYc1TR"
      },
      "execution_count": null,
      "outputs": []
    },
    {
      "cell_type": "code",
      "source": [
        "dic_wei = {}\n",
        "n_h0 =  X_train.shape[0]\n",
        "n_h1 =  10\n",
        "n_h2 = 10\n",
        "n_h3 = 10\n",
        "units_list =[n_h0,n_h1,n_h2,n_h3]\n",
        "def init_params(units_list,n_l):\n",
        "  for n in range(n_l):\n",
        "    W = np.random.randn(units_list[n+1],units_list[n])*np.sqrt(1/units_list[n])\n",
        "    b = np.zeros((units_list[n+1],1)) \n",
        "    dic_wei[f\"W{n}\"] = W\n",
        "    dic_wei[f\"b{n}\"] = b\n",
        "  return dic_wei\n",
        "\n",
        "\n",
        "\n",
        "\n",
        "  "
      ],
      "metadata": {
        "id": "otQ2_MmOkheG"
      },
      "execution_count": null,
      "outputs": []
    },
    {
      "cell_type": "code",
      "source": [
        "def reLU(x):\n",
        "  return np.maximum(0,x)"
      ],
      "metadata": {
        "id": "WH2KLSyyAVep"
      },
      "execution_count": null,
      "outputs": []
    },
    {
      "cell_type": "code",
      "source": [
        "def softmax(Z):\n",
        "    A = np.exp(Z) / sum(np.exp(Z))\n",
        "    return A"
      ],
      "metadata": {
        "id": "Cekw71ZFWePL"
      },
      "execution_count": null,
      "outputs": []
    },
    {
      "cell_type": "code",
      "source": [
        "dic_z_a = {}\n",
        "def forward_propagation(X,parameters,n_l):\n",
        "  a = X\n",
        "  for n in range(n_l):\n",
        "    Z = np.dot( parameters[f\"W{n}\"],a) + parameters[f\"b{n}\"]\n",
        "    if n == 2:\n",
        "      a = softmax(Z)\n",
        "    else:\n",
        "      a = reLU(Z)\n",
        "    \n",
        "\n",
        "    dic_z_a[f\"Z{n}\"] =  Z\n",
        "    dic_z_a[f\"a{n}\"] = a\n",
        "  \n",
        "  return dic_z_a\n",
        "\n"
      ],
      "metadata": {
        "id": "vhOPI1s8tZG6"
      },
      "execution_count": null,
      "outputs": []
    },
    {
      "cell_type": "code",
      "source": [
        "def reluDerivative(x):\n",
        "  return x > 0"
      ],
      "metadata": {
        "id": "xypmQJR-HnPD"
      },
      "execution_count": null,
      "outputs": []
    },
    {
      "cell_type": "code",
      "source": [
        "def one_hot(Y):\n",
        "    one_hot_Y = np.zeros((Y.size, Y.max() + 1))\n",
        "    one_hot_Y[np.arange(Y.size), Y] = 1\n",
        "    one_hot_Y = one_hot_Y.T\n",
        "    return one_hot_Y"
      ],
      "metadata": {
        "id": "netoc2faXrRU"
      },
      "execution_count": null,
      "outputs": []
    },
    {
      "cell_type": "code",
      "source": [
        "dic_der_p = {}\n",
        "def backpropagation(parameters,f,X,Y,n_l):\n",
        "  m = X.shape[1]\n",
        "  n = n_l -1\n",
        "  while n >= 0:\n",
        "    if n == 2:\n",
        "      dZ = f[f\"a{n}\"] - one_hot(Y)\n",
        "    else:\n",
        "      dZ = np.multiply(da,reluDerivative(f[f\"Z{n}\"]))\n",
        "    if n==0:\n",
        "      dW = (1/m)*np.dot(dZ,X.T)\n",
        "    else:\n",
        "      dW = (1/m)*np.dot(dZ,f[f\"a{n}\"].T)\n",
        "    db = (1/m)*np.sum(dZ)\n",
        "    da = np.dot(parameters[f\"W{n}\"].T,dZ)\n",
        "    dic_der_p[f\"dW{n}\"] = dW\n",
        "    dic_der_p[f\"db{n}\"] = db\n",
        "    n-=1\n",
        "  return dic_der_p"
      ],
      "metadata": {
        "id": "hXUHk5TofWP5"
      },
      "execution_count": null,
      "outputs": []
    },
    {
      "cell_type": "code",
      "source": [
        "dic_wei = {}\n",
        "def update_params(parameters,der_b_w,alpha,n_l):\n",
        "  for n in range(n_l):\n",
        "    parameters[f\"W{n}\"] = parameters[f\"W{n}\"] - alpha*der_b_w[f\"dW{n}\"]\n",
        "    parameters[f\"b{n}\"] = parameters[f\"b{n}\"] - alpha*der_b_w[f\"db{n}\"]\n",
        "\n",
        "    dic_wei[f\"W{n}\"] =parameters[f\"W{n}\"]\n",
        "    dic_wei[f\"b{n}\"] =parameters[f\"b{n}\"]\n",
        "  return dic_wei\n",
        "\n",
        "  "
      ],
      "metadata": {
        "id": "pD6sedMgqaMy"
      },
      "execution_count": null,
      "outputs": []
    },
    {
      "cell_type": "code",
      "source": [
        "def get_predictions(A2):\n",
        "    return np.argmax(A2, 0)\n",
        "\n",
        "def get_accuracy(predictions, Y):\n",
        "    print(predictions, Y)\n",
        "    return np.sum(predictions == Y) / Y.size"
      ],
      "metadata": {
        "id": "xuPxGJlcZiGW"
      },
      "execution_count": null,
      "outputs": []
    },
    {
      "cell_type": "code",
      "source": [
        "def nn_model(X,Y,f,n_l,iter,alpha):\n",
        "  n_h0 =  X_train.shape[0]\n",
        "  n_h1 =  10\n",
        "  n_h2 = 10\n",
        "  n_h3 = 10\n",
        "  units_list =[n_h0,n_h1,n_h2,n_h3]\n",
        "  parameters = init_params(units_list,n_l)\n",
        "  for i in range(0,iter):\n",
        "\n",
        "\n",
        "    f = forward_propagation(X,parameters,n_l)\n",
        "\n",
        "    der_b_w = backpropagation(parameters,f,X,Y,n_l)\n",
        "\n",
        "    parameters = update_params(parameters,der_b_w,alpha,n_l)\n",
        "\n",
        "\n",
        "    if i%50 == 0:\n",
        "      predictions = get_predictions(f[\"a2\"])\n",
        "      print(\"iteration :\" ,i)\n",
        "      print(get_accuracy(predictions,Y))\n",
        "\n",
        "  return parameters\n",
        "\n",
        "\n",
        "\n",
        "\n",
        "\n",
        "\n"
      ],
      "metadata": {
        "id": "xOYT-vQJtqbv"
      },
      "execution_count": null,
      "outputs": []
    },
    {
      "cell_type": "code",
      "source": [
        "a = nn_model(X_train,Y_train,f,3,1000,0.15)"
      ],
      "metadata": {
        "colab": {
          "base_uri": "https://localhost:8080/"
        },
        "id": "xEh2-u5uE24f",
        "outputId": "dc636e44-ef2e-4dae-c5c9-b36f63046759"
      },
      "execution_count": null,
      "outputs": [
        {
          "output_type": "stream",
          "name": "stdout",
          "text": [
            "iteration : 0\n",
            "[4 4 4 ... 7 4 4] [0 4 9 ... 8 1 9]\n",
            "0.10335714285714286\n",
            "iteration : 50\n",
            "[4 4 9 ... 4 4 9] [0 4 9 ... 8 1 9]\n",
            "0.3894285714285714\n",
            "iteration : 100\n",
            "[0 4 9 ... 8 3 9] [0 4 9 ... 8 1 9]\n",
            "0.5695\n",
            "iteration : 150\n",
            "[0 4 9 ... 8 8 9] [0 4 9 ... 8 1 9]\n",
            "0.6379523809523809\n",
            "iteration : 200\n",
            "[6 4 9 ... 8 8 9] [0 4 9 ... 8 1 9]\n",
            "0.7294761904761905\n",
            "iteration : 250\n",
            "[6 4 9 ... 8 1 9] [0 4 9 ... 8 1 9]\n",
            "0.7599047619047619\n",
            "iteration : 300\n",
            "[0 4 9 ... 8 1 9] [0 4 9 ... 8 1 9]\n",
            "0.7858809523809523\n",
            "iteration : 350\n",
            "[0 4 9 ... 8 1 9] [0 4 9 ... 8 1 9]\n",
            "0.8088571428571428\n",
            "iteration : 400\n",
            "[0 4 9 ... 8 1 9] [0 4 9 ... 8 1 9]\n",
            "0.8261666666666667\n",
            "iteration : 450\n",
            "[0 4 9 ... 8 1 9] [0 4 9 ... 8 1 9]\n",
            "0.8405476190476191\n",
            "iteration : 500\n",
            "[0 4 9 ... 8 1 9] [0 4 9 ... 8 1 9]\n",
            "0.8411904761904762\n",
            "iteration : 550\n",
            "[0 4 9 ... 8 1 4] [0 4 9 ... 8 1 9]\n",
            "0.7837619047619048\n",
            "iteration : 600\n",
            "[0 4 9 ... 8 1 9] [0 4 9 ... 8 1 9]\n",
            "0.8608095238095238\n",
            "iteration : 650\n",
            "[0 4 9 ... 8 1 9] [0 4 9 ... 8 1 9]\n",
            "0.8460952380952381\n",
            "iteration : 700\n",
            "[0 4 9 ... 8 1 9] [0 4 9 ... 8 1 9]\n",
            "0.883547619047619\n",
            "iteration : 750\n",
            "[0 4 9 ... 8 1 9] [0 4 9 ... 8 1 9]\n",
            "0.8875\n",
            "iteration : 800\n",
            "[0 4 9 ... 8 1 9] [0 4 9 ... 8 1 9]\n",
            "0.8921904761904762\n",
            "iteration : 850\n",
            "[0 4 9 ... 8 1 9] [0 4 9 ... 8 1 9]\n",
            "0.8953333333333333\n",
            "iteration : 900\n",
            "[0 4 9 ... 8 1 9] [0 4 9 ... 8 1 9]\n",
            "0.8967142857142857\n",
            "iteration : 950\n",
            "[0 4 9 ... 8 1 9] [0 4 9 ... 8 1 9]\n",
            "0.9019285714285714\n"
          ]
        }
      ]
    },
    {
      "cell_type": "code",
      "source": [
        "data_test = pd.read_csv(\"test.csv\")\n",
        "test_data = np.array(data_test)\n",
        "X_test = test_data.T\n",
        "X_test = X_test/255"
      ],
      "metadata": {
        "id": "hF3MQj1-GtlV"
      },
      "execution_count": null,
      "outputs": []
    },
    {
      "cell_type": "code",
      "source": [
        "def predictions(X, parameters):\n",
        "    f = forward_propagation(X,parameters,3)\n",
        "    predictions = get_predictions(f[\"a2\"])\n",
        "    return predictions"
      ],
      "metadata": {
        "id": "kviNp8BuLLks"
      },
      "execution_count": null,
      "outputs": []
    },
    {
      "cell_type": "code",
      "source": [
        "prediction = predictions(X_test, a)"
      ],
      "metadata": {
        "id": "GLm2zkcmYztM"
      },
      "execution_count": null,
      "outputs": []
    },
    {
      "cell_type": "code",
      "source": [
        "pred = pd.DataFrame(prediction,columns = [\"prediction\"])\n",
        "pred.to_csv(\"output.csv\")"
      ],
      "metadata": {
        "id": "uWX7NclkXPJb"
      },
      "execution_count": null,
      "outputs": []
    },
    {
      "cell_type": "code",
      "source": [
        "def test_predict(index, parameters):\n",
        "    current_image = X_test[:, index, None]\n",
        "    prediction = predictions(current_image,parameters)\n",
        "    label = Y_train[index]\n",
        "    print(\"Prediction: \", prediction)\n",
        "    print(\"Label: \", label)\n",
        "    \n",
        "    current_image = current_image.reshape((28, 28)) * 255\n",
        "    plt.gray()\n",
        "    plt.imshow(current_image, interpolation='nearest')\n",
        "    plt.show()"
      ],
      "metadata": {
        "id": "O2KdH6x8NrJ8"
      },
      "execution_count": null,
      "outputs": []
    },
    {
      "cell_type": "code",
      "source": [
        "test_predict(4, a)"
      ],
      "metadata": {
        "colab": {
          "base_uri": "https://localhost:8080/",
          "height": 300
        },
        "id": "4FsIBnZBNwhk",
        "outputId": "53e7fd0a-5e72-47a1-c308-b9837b3ca7d1"
      },
      "execution_count": null,
      "outputs": [
        {
          "output_type": "stream",
          "name": "stdout",
          "text": [
            "Prediction:  [3]\n",
            "Label:  8\n"
          ]
        },
        {
          "output_type": "display_data",
          "data": {
            "image/png": "[encoded data removed]",
            "text/plain": [
              "<Figure size 432x288 with 1 Axes>"
            ]
          },
          "metadata": {
            "needs_background": "light"
          }
        }
      ]
    }
  ]
}