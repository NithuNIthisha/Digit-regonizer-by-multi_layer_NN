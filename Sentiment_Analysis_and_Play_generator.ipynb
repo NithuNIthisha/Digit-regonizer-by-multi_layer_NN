{
  "nbformat": 4,
  "nbformat_minor": 0,
  "metadata": {
    "colab": {
      "name": "Sentiment_Analysis and Play generator.ipynb",
      "provenance": [],
      "authorship_tag": "ABX9TyOa+4mO8hlsIHhl/SRyKtoh",
      "include_colab_link": true
    },
    "kernelspec": {
      "name": "python3",
      "display_name": "Python 3"
    },
    "language_info": {
      "name": "python"
    },
    "accelerator": "GPU",
    "gpuClass": "standard"
  },
  "cells": [
    {
      "cell_type": "markdown",
      "metadata": {
        "id": "view-in-github",
        "colab_type": "text"
      },
      "source": [
        "<a href=\"https://colab.research.google.com/github/NithuNIthisha/Digit-regonizer-by-multi_layer_NN/blob/main/Sentiment_Analysis_and_Play_generator.ipynb\" target=\"_parent\"><img src=\"https://colab.research.google.com/assets/colab-badge.svg\" alt=\"Open In Colab\"/></a>"
      ]
    },
    {
      "cell_type": "markdown",
      "source": [
        "Sentiment_Analyis"
      ],
      "metadata": {
        "id": "fl59ZgNZp6Ck"
      }
    },
    {
      "cell_type": "code",
      "source": [
        "from keras.datasets import imdb\n",
        "from keras.preprocessing import sequence\n",
        "import tensorflow as tf\n",
        "import os\n",
        "import numpy as np\n",
        "word_index = imdb.get_word_index()\n",
        "vocab_size = max(word_index.values())\n",
        "max_len = 250\n",
        "batch_size = 64\n",
        "(train_data,train_labels),(test_data,test_labels) = imdb.load_data(num_words = vocab_size)"
      ],
      "metadata": {
        "id": "KpICdgGboPP8"
      },
      "execution_count": null,
      "outputs": []
    },
    {
      "cell_type": "code",
      "source": [
        "train_data = sequence.pad_sequences(train_data)\n",
        "test_data = sequence.pad_sequences(test_data)"
      ],
      "metadata": {
        "id": "Q_SD9bopOFfj"
      },
      "execution_count": null,
      "outputs": []
    },
    {
      "cell_type": "code",
      "source": [
        "model = tf.keras.Sequential([\n",
        "          tf.keras.layers.Embedding(vocab_size,32), #32 dimension\n",
        "          tf.keras.layers.LSTM(32),\n",
        "          tf.keras.layers.Dense(1,activation=\"sigmoid\")\n",
        "])"
      ],
      "metadata": {
        "id": "pMdqLVwQO1Ml"
      },
      "execution_count": null,
      "outputs": []
    },
    {
      "cell_type": "code",
      "source": [
        "model.summary()"
      ],
      "metadata": {
        "colab": {
          "base_uri": "https://localhost:8080/"
        },
        "id": "D60O9pmFOPfY",
        "outputId": "9fbf9a04-b4a5-4bd4-de39-e2826b54bc82"
      },
      "execution_count": null,
      "outputs": [
        {
          "output_type": "stream",
          "name": "stdout",
          "text": [
            "Model: \"sequential_1\"\n",
            "_________________________________________________________________\n",
            " Layer (type)                Output Shape              Param #   \n",
            "=================================================================\n",
            " embedding_1 (Embedding)     (None, None, 32)          2834688   \n",
            "                                                                 \n",
            " lstm_1 (LSTM)               (None, 32)                8320      \n",
            "                                                                 \n",
            " dense_1 (Dense)             (None, 1)                 33        \n",
            "                                                                 \n",
            "=================================================================\n",
            "Total params: 2,843,041\n",
            "Trainable params: 2,843,041\n",
            "Non-trainable params: 0\n",
            "_________________________________________________________________\n"
          ]
        }
      ]
    },
    {
      "cell_type": "code",
      "source": [
        "model.compile(loss=\"binary_crossentropy\",optimizer=\"rmsprop\",metrics=[\"acc\"])\n",
        "history = model.fit(train_data,train_labels,epochs=10,validation_split = 0.2) #20% validate"
      ],
      "metadata": {
        "colab": {
          "base_uri": "https://localhost:8080/"
        },
        "id": "8g3iai_WQg7Y",
        "outputId": "0a64eb13-3fd3-4da2-b96e-603b325dc580"
      },
      "execution_count": null,
      "outputs": [
        {
          "output_type": "stream",
          "name": "stdout",
          "text": [
            "Epoch 1/10\n",
            "625/625 [==============================] - 47s 73ms/step - loss: 0.4235 - acc: 0.8050 - val_loss: 0.2858 - val_acc: 0.8886\n",
            "Epoch 2/10\n",
            "625/625 [==============================] - 45s 72ms/step - loss: 0.2362 - acc: 0.9112 - val_loss: 0.2924 - val_acc: 0.8828\n",
            "Epoch 3/10\n",
            "625/625 [==============================] - 45s 72ms/step - loss: 0.1765 - acc: 0.9348 - val_loss: 0.3488 - val_acc: 0.8640\n",
            "Epoch 4/10\n",
            "625/625 [==============================] - 46s 73ms/step - loss: 0.1454 - acc: 0.9485 - val_loss: 0.5675 - val_acc: 0.8188\n",
            "Epoch 5/10\n",
            "625/625 [==============================] - 45s 72ms/step - loss: 0.1207 - acc: 0.9579 - val_loss: 0.2817 - val_acc: 0.8928\n",
            "Epoch 6/10\n",
            "625/625 [==============================] - 45s 72ms/step - loss: 0.1089 - acc: 0.9615 - val_loss: 0.2963 - val_acc: 0.8950\n",
            "Epoch 7/10\n",
            "625/625 [==============================] - 45s 72ms/step - loss: 0.0958 - acc: 0.9685 - val_loss: 0.3547 - val_acc: 0.8918\n",
            "Epoch 8/10\n",
            "625/625 [==============================] - 46s 73ms/step - loss: 0.0834 - acc: 0.9728 - val_loss: 0.3901 - val_acc: 0.8884\n",
            "Epoch 9/10\n",
            "625/625 [==============================] - 45s 73ms/step - loss: 0.0717 - acc: 0.9759 - val_loss: 0.3869 - val_acc: 0.8778\n",
            "Epoch 10/10\n",
            "625/625 [==============================] - 46s 74ms/step - loss: 0.0664 - acc: 0.9793 - val_loss: 0.4220 - val_acc: 0.8838\n"
          ]
        }
      ]
    },
    {
      "cell_type": "code",
      "source": [
        "results = model.evaluate(test_data,test_labels)\n",
        "print(results)"
      ],
      "metadata": {
        "colab": {
          "base_uri": "https://localhost:8080/"
        },
        "id": "2EmUj_IRSBD_",
        "outputId": "42de1bfb-3ac1-490c-cda2-dc19277f48ac"
      },
      "execution_count": null,
      "outputs": [
        {
          "output_type": "stream",
          "name": "stdout",
          "text": [
            "782/782 [==============================] - 24s 30ms/step - loss: 0.5026 - acc: 0.8606\n",
            "[0.5026417970657349, 0.8606399893760681]\n"
          ]
        }
      ]
    },
    {
      "cell_type": "code",
      "source": [
        "word_index = imdb.get_word_index()"
      ],
      "metadata": {
        "id": "07bjW3r2STW7"
      },
      "execution_count": null,
      "outputs": []
    },
    {
      "cell_type": "code",
      "source": [
        "from tensorflow import keras\n",
        "def encode(sentence):\n",
        "  token = keras.preprocessing.text.text_to_word_sequence(sentence)\n",
        "  tokens = [word_index[word] if word in word_index else 0 for word in token]\n",
        "  return sequence.pad_sequences([tokens],max_len)\n"
      ],
      "metadata": {
        "id": "1kwID3gwTSjh"
      },
      "execution_count": null,
      "outputs": []
    },
    {
      "cell_type": "code",
      "source": [
        "text = \"That movie was Amazing and soo good\"\n",
        "e = encode(text)"
      ],
      "metadata": {
        "id": "_0rdV2duTT5-"
      },
      "execution_count": null,
      "outputs": []
    },
    {
      "cell_type": "code",
      "source": [
        "reverse_word_index = {value:key for (key,value) in word_index.items()}\n",
        "def decode(integers):\n",
        "  pad = 0\n",
        "  text = \"\"\n",
        "  for num in integers:\n",
        "    if num!=0:\n",
        "      text+= reverse_word_index[num] + \" \"\n",
        "  return text    "
      ],
      "metadata": {
        "id": "EE3EAoQLWop_"
      },
      "execution_count": null,
      "outputs": []
    },
    {
      "cell_type": "code",
      "source": [
        "decode(e[0])"
      ],
      "metadata": {
        "colab": {
          "base_uri": "https://localhost:8080/",
          "height": 36
        },
        "id": "55Wwpky3a1vU",
        "outputId": "366c681e-8f18-49f7-a50b-88f0b94d0b1d"
      },
      "execution_count": null,
      "outputs": [
        {
          "output_type": "execute_result",
          "data": {
            "text/plain": [
              "'that movie was amazing and soo good '"
            ],
            "application/vnd.google.colaboratory.intrinsic+json": {
              "type": "string"
            }
          },
          "metadata": {},
          "execution_count": 70
        }
      ]
    },
    {
      "cell_type": "code",
      "source": [
        "def predict(text):\n",
        "  t = encode(text)\n",
        "  result = model.predict(t)\n",
        "  if result > 0.5:\n",
        "    return result , \"positive\"\n",
        "  return result , \"Negative\"\n",
        "text = \"the movie was good\"\n",
        "predict(text)"
      ],
      "metadata": {
        "colab": {
          "base_uri": "https://localhost:8080/"
        },
        "id": "G1troTffbDL3",
        "outputId": "22aa37d2-ddcf-4b60-e1b8-ed8b05e10469"
      },
      "execution_count": null,
      "outputs": [
        {
          "output_type": "execute_result",
          "data": {
            "text/plain": [
              "(array([[0.43381286]], dtype=float32), 'Negative')"
            ]
          },
          "metadata": {},
          "execution_count": 83
        }
      ]
    }
  ]
}